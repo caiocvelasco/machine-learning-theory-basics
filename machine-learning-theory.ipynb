{
 "cells": [
  {
   "cell_type": "markdown",
   "metadata": {},
   "source": [
    "## Machine Learning Theory - The Basics "
   ]
  },
  {
   "cell_type": "markdown",
   "metadata": {},
   "source": [
    "1. Data Structure\n",
    "* [Definition - Math] A **Field** $\\textbf{F}$ is a set containing at least two distinct elements called 0 and 1, along with operations of addition and multiplication and which well-known properties are satisfied (e.g.:commutativity, associativity, etc). It is represented by a bold letter **$\\textbf{F}$**.\n",
    "    * Example: $F = \\mathbb{R}$ is the field if real numbers and these \"numbers\" receive a fancy name: **scalars**.\n",
    "* [Definition - Math] A **higher-dimensional Field** is represented by $\\textbf{F}^{n}$, which means that this Field has **n** dimensions. An element of this field is represented by a **list of lenght n** which is an ordered collection of n elements denoted by $(x_1, ..., x_2)$.\n",
    "    *  $\\textbf{F}^{n} = \\{(x_1, ..., x_2) : x_j \\in \\textbf{F} for j = 1, ..., n\\}$\n",
    "* [Definition - Math] A **Vector Space** is a set V where you can do 2 important things: addition and scalar multiplication. Its elements are called **vectors** or **points**.\n",
    "* [Good to Know] Although in mathematics a vector is defined as an Ordered List of Objects, in Machine Learning Theory, a vector is an ordered list of numbers. Thus, it is assumed that the vector space where vectors live is a   \n",
    "* [Definition - Math] A **vector** is defined as A **column-vector**, from Linear Algebra. It is written as a bold character **x**\n",
    "    * \n",
    "    * More: vector can be interepreted as:\n",
    "        * an array of numbers (a computer science view),\n",
    "        * a vector as an arrow with a direction and magnitude (a physics view),\n",
    "        * and a vector as an object that obeys addition and scaling/multiplication (a mathematical view).\n",
    "* [Definition - Math] A an **attribute** (or **element** or **entry**) of a vector is defined as $x^{(i)}$ where **i** denotes a specifc **dimension** of the vector.\n",
    "    * Example: **x** = [3,4] implies that $x^{(1)} = 3$ and $x^{(2)}$ = 4.\n",
    "* [Definition - ML] "
   ]
  }
 ],
 "metadata": {
  "language_info": {
   "name": "python"
  },
  "orig_nbformat": 4
 },
 "nbformat": 4,
 "nbformat_minor": 2
}
